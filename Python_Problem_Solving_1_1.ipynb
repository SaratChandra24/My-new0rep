{
  "nbformat": 4,
  "nbformat_minor": 0,
  "metadata": {
    "colab": {
      "provenance": [],
      "authorship_tag": "ABX9TyPZuOnRBzCqmsHGe3G43/0g",
      "include_colab_link": true
    },
    "kernelspec": {
      "name": "python3",
      "display_name": "Python 3"
    },
    "language_info": {
      "name": "python"
    }
  },
  "cells": [
    {
      "cell_type": "markdown",
      "metadata": {
        "id": "view-in-github",
        "colab_type": "text"
      },
      "source": [
        "<a href=\"https://colab.research.google.com/github/SaratChandra24/My-new0rep/blob/main/Python_Problem_Solving_1_1.ipynb\" target=\"_parent\"><img src=\"https://colab.research.google.com/assets/colab-badge.svg\" alt=\"Open In Colab\"/></a>"
      ]
    },
    {
      "cell_type": "markdown",
      "source": [
        "Trying return vs print"
      ],
      "metadata": {
        "id": "1WcOJFUOs6jg"
      }
    },
    {
      "cell_type": "code",
      "source": [
        "def checkforthou(x,y) :\n",
        "    if x*y < 1000 :\n",
        "        return x*y\n",
        "    else :\n",
        "        return x+y\n",
        "\n",
        "print(checkforthou(10,10))\n",
        "print(checkforthou(10,100))"
      ],
      "metadata": {
        "colab": {
          "base_uri": "https://localhost:8080/"
        },
        "id": "Q5U9LyjJtBPl",
        "outputId": "c370cc45-dd3b-42a9-8c98-ea09268faad7"
      },
      "execution_count": 25,
      "outputs": [
        {
          "output_type": "stream",
          "name": "stdout",
          "text": [
            "100\n",
            "110\n"
          ]
        }
      ]
    },
    {
      "cell_type": "markdown",
      "source": [
        "Sum of previous numbers"
      ],
      "metadata": {
        "id": "jwuvSC81u4_L"
      }
    },
    {
      "cell_type": "code",
      "source": [
        "def sumofprev(number) :\n",
        "  y=0\n",
        "  for x in range(number):\n",
        "      y = x-1\n",
        "      print(\"Current number\", x, \"Previous number\", y, \"Sum\", x+y)\n",
        "\n",
        "sumofprev(10)"
      ],
      "metadata": {
        "colab": {
          "base_uri": "https://localhost:8080/"
        },
        "id": "vzfH9LNqvR2f",
        "outputId": "c67edb73-6236-4a91-e79c-ea9378534d14"
      },
      "execution_count": 28,
      "outputs": [
        {
          "output_type": "stream",
          "name": "stdout",
          "text": [
            "Current number 0 Previous number -1 Sum -1\n",
            "Current number 1 Previous number 0 Sum 1\n",
            "Current number 2 Previous number 1 Sum 3\n",
            "Current number 3 Previous number 2 Sum 5\n",
            "Current number 4 Previous number 3 Sum 7\n",
            "Current number 5 Previous number 4 Sum 9\n",
            "Current number 6 Previous number 5 Sum 11\n",
            "Current number 7 Previous number 6 Sum 13\n",
            "Current number 8 Previous number 7 Sum 15\n",
            "Current number 9 Previous number 8 Sum 17\n"
          ]
        }
      ]
    },
    {
      "cell_type": "markdown",
      "source": [
        " Printing even indices from a string"
      ],
      "metadata": {
        "id": "7PQOvGrbCYcS"
      }
    },
    {
      "cell_type": "code",
      "source": [
        "def evenlist(estr):\n",
        "  for x in range(0,len(estr),2):\n",
        "      print(estr[x], end =\" \")\n",
        "\n",
        "evenlist(\"xander\")"
      ],
      "metadata": {
        "colab": {
          "base_uri": "https://localhost:8080/"
        },
        "id": "7Ii5cyudChYS",
        "outputId": "2fea1f6e-ee8a-4578-83cb-ef0ae29962e8"
      },
      "execution_count": 1,
      "outputs": [
        {
          "output_type": "stream",
          "name": "stdout",
          "text": [
            "x n e "
          ]
        }
      ]
    },
    {
      "cell_type": "markdown",
      "source": [
        " Pattern printing"
      ],
      "metadata": {
        "id": "dKjH1c3Mh7J0"
      }
    },
    {
      "cell_type": "code",
      "source": [
        "def starpp(num):\n",
        "  for x in range(num):\n",
        "    for y in range(x+1):\n",
        "      print(\"*\", end = \" \")\n",
        "    print()\n",
        "\n",
        "def starrp(num):\n",
        "  for x in range(num,0,-1):\n",
        "    for y in range(x):\n",
        "      print(x, end = \" \")\n",
        "    print()\n",
        "\n",
        "def nlpp(k):\n",
        "  rows = k\n",
        "  middle_row = rows // 2 + 1\n",
        "  decrement = 0\n",
        "  for i in range(1, rows + 1):\n",
        "    if i > middle_row:\n",
        "      decrement += 2\n",
        "    print(\"*\" * (i - decrement))\n",
        "\n",
        "starpp(5)\n",
        "starrp(5)\n",
        "nlpp(5)"
      ],
      "metadata": {
        "colab": {
          "base_uri": "https://localhost:8080/"
        },
        "id": "5ObzYyyfYYPc",
        "outputId": "6ec054de-fcb2-4448-d367-85176e6c1073"
      },
      "execution_count": 18,
      "outputs": [
        {
          "output_type": "stream",
          "name": "stdout",
          "text": [
            "* \n",
            "* * \n",
            "* * * \n",
            "* * * * \n",
            "* * * * * \n",
            "5 5 5 5 5 \n",
            "4 4 4 4 \n",
            "3 3 3 \n",
            "2 2 \n",
            "1 \n",
            "*\n",
            "**\n",
            "***\n",
            "**\n",
            "*\n"
          ]
        }
      ]
    },
    {
      "cell_type": "markdown",
      "source": [
        "Fibonacci Sequence\n"
      ],
      "metadata": {
        "id": "LjKRQXVJ2kOF"
      }
    },
    {
      "cell_type": "code",
      "source": [
        "def fib(l):\n",
        "  x = 0\n",
        "  y = 1\n",
        "  for n in range(l):\n",
        "    print(x, end=\" \")\n",
        "    s = x+y\n",
        "    x,y = y,s\n",
        "\n",
        "fib(10)"
      ],
      "metadata": {
        "colab": {
          "base_uri": "https://localhost:8080/"
        },
        "id": "FXKr1WEv9XqZ",
        "outputId": "fb7e642f-3c43-4e1f-f2ae-95e33b536c2b"
      },
      "execution_count": 17,
      "outputs": [
        {
          "output_type": "stream",
          "name": "stdout",
          "text": [
            "0 1 1 2 3 5 8 13 21 34 "
          ]
        }
      ]
    },
    {
      "cell_type": "markdown",
      "source": [
        "Factorial of a number"
      ],
      "metadata": {
        "id": "z0-XPTuo3F7x"
      }
    },
    {
      "cell_type": "code",
      "source": [
        "def fact(n):\n",
        "  prod = 1\n",
        "  for x in range(1,n):\n",
        "    prod = prod * x\n",
        "  print(prod)\n",
        "\n",
        "fact(6)"
      ],
      "metadata": {
        "colab": {
          "base_uri": "https://localhost:8080/"
        },
        "id": "kv_DVvf_EFiB",
        "outputId": "203f2936-09a1-4356-84c5-2304a518c8d9"
      },
      "execution_count": 53,
      "outputs": [
        {
          "output_type": "stream",
          "name": "stdout",
          "text": [
            "120\n"
          ]
        }
      ]
    },
    {
      "cell_type": "markdown",
      "source": [
        "Prime numbers in a given range"
      ],
      "metadata": {
        "id": "YO-CcRvj3Jc9"
      }
    },
    {
      "cell_type": "code",
      "source": [
        "def primenumber(x,n):\n",
        "  for z in range(x,n):\n",
        "    if z>1:\n",
        "      for i in range(2,z):\n",
        "        if z%i == 0:\n",
        "          break\n",
        "      else:\n",
        "          print(z, end=\" \")\n",
        "\n",
        "primenumber(25,50)"
      ],
      "metadata": {
        "colab": {
          "base_uri": "https://localhost:8080/"
        },
        "id": "1NAdPsb-OMqX",
        "outputId": "e9479931-9d2d-4e91-877f-fc33cc6267b3"
      },
      "execution_count": 69,
      "outputs": [
        {
          "output_type": "stream",
          "name": "stdout",
          "text": [
            "29 31 37 41 43 47 "
          ]
        }
      ]
    },
    {
      "cell_type": "markdown",
      "source": [
        "Playing with Numbers"
      ],
      "metadata": {
        "id": "e7WwrmGK3VyL"
      }
    },
    {
      "cell_type": "code",
      "source": [
        "def revnum(n):\n",
        "    reverse_num = 0\n",
        "    while n > 0:\n",
        "        reminder = n % 10\n",
        "        reverse_num = (reverse_num * 10) + reminder\n",
        "        n = n // 10\n",
        "    print(reverse_num)\n",
        "\n",
        "def digitrev(rn):\n",
        "    d = 0\n",
        "    while rn > 0:\n",
        "        d = rn % 10\n",
        "        rn = rn//10\n",
        "        print(d, end =\" \")\n",
        "\n",
        "\n",
        "def palindrome(pnum):\n",
        "  reverse_num = 0\n",
        "  original_num = pnum\n",
        "  while pnum> 0:\n",
        "        reminder = pnum % 10\n",
        "        reverse_num = (reverse_num * 10) + reminder\n",
        "        pnum = pnum // 10\n",
        "\n",
        "  if reverse_num == original_num:\n",
        "      print(\"\\n\", original_num, \"is a palindrome\")\n",
        "  else :\n",
        "      print(\"\\n\", original_num, \"is not a palindrome\")\n",
        "\n",
        "def countofnum(cnum):\n",
        "  cnt = 0\n",
        "  while cnum!= 0:\n",
        "    cnum = cnum // 10\n",
        "    cnt +=1\n",
        "  print(cnt)\n",
        "\n",
        "revnum(26031)\n",
        "digitrev(26031)\n",
        "palindrome(13831)\n",
        "countofnum(13583)"
      ],
      "metadata": {
        "colab": {
          "base_uri": "https://localhost:8080/"
        },
        "id": "KXDX3-MqaB17",
        "outputId": "5c5fc23b-99c6-4d44-a59d-f9e466574194"
      },
      "execution_count": 5,
      "outputs": [
        {
          "output_type": "stream",
          "name": "stdout",
          "text": [
            "13062\n",
            "1 3 0 6 2 \n",
            " 13831 is a palindrome\n",
            "5\n"
          ]
        }
      ]
    },
    {
      "cell_type": "markdown",
      "source": [
        "Playing with Series"
      ],
      "metadata": {
        "id": "Sst5zWOc31og"
      }
    },
    {
      "cell_type": "code",
      "source": [
        "def sumtoseries(l):\n",
        "  s = 0\n",
        "  for n in range(1,l+1):\n",
        "    print(n, end=\"+\")\n",
        "    s += n\n",
        "  print(\"\\nSum is\", s)\n",
        "\n",
        "def sumtotwo(kn):\n",
        "  # first number of sequence\n",
        "  start = 2\n",
        "  sum_seq = 0\n",
        "\n",
        "# run loop n times\n",
        "  for i in range(0, kn):\n",
        "     print(start, end=\"+\")\n",
        "     sum_seq += start\n",
        "      # calculate the next term\n",
        "     start = start * 10 + 2\n",
        "  print(\"\\nSum of above series is:\", sum_seq)\n",
        "\n",
        "\n",
        "sumtoseries(15)\n",
        "sumtotwo(6)"
      ],
      "metadata": {
        "colab": {
          "base_uri": "https://localhost:8080/"
        },
        "id": "yiTQDE47LPEy",
        "outputId": "549d8815-6aa6-4bab-d93a-edeaf997893c"
      },
      "execution_count": 23,
      "outputs": [
        {
          "output_type": "stream",
          "name": "stdout",
          "text": [
            "1+2+3+4+5+6+7+8+9+10+11+12+13+14+15+\n",
            "Sum is 120\n",
            "2+22+222+2222+22222+222222+\n",
            "Sum of above series is: 246912\n"
          ]
        }
      ]
    }
  ]
}