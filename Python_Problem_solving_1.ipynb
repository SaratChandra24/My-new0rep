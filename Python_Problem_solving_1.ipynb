{
  "nbformat": 4,
  "nbformat_minor": 0,
  "metadata": {
    "colab": {
      "provenance": [],
      "authorship_tag": "ABX9TyMtQGTxuUKmNBdRLfPyBI/N",
      "include_colab_link": true
    },
    "kernelspec": {
      "name": "python3",
      "display_name": "Python 3"
    },
    "language_info": {
      "name": "python"
    }
  },
  "cells": [
    {
      "cell_type": "markdown",
      "metadata": {
        "id": "view-in-github",
        "colab_type": "text"
      },
      "source": [
        "<a href=\"https://colab.research.google.com/github/SaratChandra24/Python-Learning/blob/main/Python_Problem_solving_1.ipynb\" target=\"_parent\"><img src=\"https://colab.research.google.com/assets/colab-badge.svg\" alt=\"Open In Colab\"/></a>"
      ]
    },
    {
      "cell_type": "markdown",
      "source": [
        "Loop, udef Function creation examples - Checking for prime numbers"
      ],
      "metadata": {
        "id": "yXjrJE2_dbOB"
      }
    },
    {
      "cell_type": "code",
      "source": [
        "def Isitprime(listnum):\n",
        "    primenumbers = []\n",
        "    for n in listnum:\n",
        "      if n>1:\n",
        "        for i in range(2, n):\n",
        "            if n % i == 0:\n",
        "                #print (n, \"is not a prime number\")\n",
        "                break\n",
        "        else:\n",
        "          #print (n, \"is a prime number\")\n",
        "          primenumbers.append(n)\n",
        "    print(\"Primenumbers are\", primenumbers)\n",
        "\n",
        "Isitprime([1,2,3,4,5,6])"
      ],
      "metadata": {
        "id": "grB-a0h_dikI"
      },
      "execution_count": null,
      "outputs": []
    },
    {
      "cell_type": "markdown",
      "source": [
        "Loop, udef Function creation examples - Pattern printing"
      ],
      "metadata": {
        "id": "6yfBLGlOdpuf"
      }
    },
    {
      "cell_type": "code",
      "source": [
        "def asterick_pp(rows):\n",
        "    for x in range (rows):\n",
        "          for y in range (x+1):\n",
        "            print(\"* \", end=\"\")\n",
        "          print()\n",
        "\n",
        "asterick_pp(5)"
      ],
      "metadata": {
        "id": "RD172hdIdyq1",
        "colab": {
          "base_uri": "https://localhost:8080/"
        },
        "outputId": "45e2b550-a708-499b-987e-2a3f6724a25a"
      },
      "execution_count": 8,
      "outputs": [
        {
          "output_type": "stream",
          "name": "stdout",
          "text": [
            "* \n",
            "* * \n",
            "* * * \n",
            "* * * * \n",
            "* * * * * \n"
          ]
        }
      ]
    },
    {
      "cell_type": "code",
      "source": [
        "my_tuple = ('sara', 6, 5, 0.97)\n",
        "my_list = ['sara', 6, 5, 0.97]\n",
        "print(my_tuple[0])     # output => 'sara'\n",
        "print(my_list[0])     # output => 'sara'\n",
        "#my_tuple[0] = 'ansh'    # modifying tuple => throws an error\n",
        "my_list[0] = 'ansh'    # modifying list => list modified\n",
        "print(my_tuple[0])     # output => 'sara'\n",
        "print(my_list[0])\n",
        " # output => 'ansh"
      ],
      "metadata": {
        "colab": {
          "base_uri": "https://localhost:8080/"
        },
        "id": "-egbXxe75Sgd",
        "outputId": "3a696527-b958-4a48-fa38-cdadb3453720"
      },
      "execution_count": 23,
      "outputs": [
        {
          "output_type": "stream",
          "name": "stdout",
          "text": [
            "sara\n",
            "sara\n",
            "sara\n",
            "ansh\n"
          ]
        }
      ]
    },
    {
      "cell_type": "code",
      "source": [
        "word = input(\"Enter a word \")\n",
        "reverstring = \"\"\n",
        "for c in word:\n",
        "  reverstring = c + reverstring\n",
        "\n",
        "print(\"The reverse word is \" + reverstring)"
      ],
      "metadata": {
        "colab": {
          "base_uri": "https://localhost:8080/"
        },
        "id": "YPHKfuuzhD8v",
        "outputId": "5ea2b9a6-d066-4dac-c26d-fce42556e36f"
      },
      "execution_count": null,
      "outputs": [
        {
          "output_type": "stream",
          "name": "stdout",
          "text": [
            "Enter a word Salaar\n",
            "The reverse word is raalaS\n"
          ]
        }
      ]
    },
    {
      "cell_type": "code",
      "source": [
        "def fib(n):\n",
        "  fib_num = []\n",
        "  x,y = 0,1\n",
        "  for i in range(n):\n",
        "    #print(x, end = \" \")\n",
        "    fib_num.append(x)\n",
        "    x,y = y,x+y\n",
        "\n",
        "  return fib_num\n",
        "\n",
        "fib(10)"
      ],
      "metadata": {
        "colab": {
          "base_uri": "https://localhost:8080/"
        },
        "id": "Na5o9J_DkK84",
        "outputId": "411cca49-b976-44e5-b596-d3f722b0ae4e"
      },
      "execution_count": null,
      "outputs": [
        {
          "output_type": "execute_result",
          "data": {
            "text/plain": [
              "[0, 1, 1, 2, 3, 5, 8, 13, 21, 34]"
            ]
          },
          "metadata": {},
          "execution_count": 14
        }
      ]
    },
    {
      "cell_type": "code",
      "source": [
        "def patterf(n):\n",
        "  for k in range(n,-1,-1):\n",
        "    if k == n:\n",
        "      print(\"*\"*n)\n",
        "    elif k == n-2:\n",
        "      print(\"*\"*(n-1))\n",
        "    else:\n",
        "      print(\"*\")\n",
        "  print()\n",
        "\n",
        "patterf(5)"
      ],
      "metadata": {
        "colab": {
          "base_uri": "https://localhost:8080/"
        },
        "id": "Re1Osjp6t_7J",
        "outputId": "becee605-420b-4675-d16f-694d58e987e3"
      },
      "execution_count": null,
      "outputs": [
        {
          "output_type": "stream",
          "name": "stdout",
          "text": [
            "*****\n",
            "*\n",
            "****\n",
            "*\n",
            "*\n",
            "*\n",
            "\n"
          ]
        }
      ]
    },
    {
      "cell_type": "code",
      "source": [
        "def compound_interest(principal, rate, time):\n",
        "\n",
        "    # Calculates compound interest\n",
        "    Amount = principal * (((1 + rate / 100)** time))\n",
        "    CI = Amount - principal\n",
        "    print(\"Compound interest is\", CI)\n",
        "\n",
        "\n",
        "# Driver Code\n",
        "compound_interest(10000, 10.25, 5)"
      ],
      "metadata": {
        "colab": {
          "base_uri": "https://localhost:8080/"
        },
        "id": "gavClmIUXz51",
        "outputId": "9654484f-dc35-4e0a-99e6-b938b8c8d377"
      },
      "execution_count": null,
      "outputs": [
        {
          "output_type": "stream",
          "name": "stdout",
          "text": [
            "Compound interest is 6288.946267774416\n"
          ]
        }
      ]
    },
    {
      "cell_type": "markdown",
      "source": [],
      "metadata": {
        "id": "gI91Kl3PfKOo"
      }
    },
    {
      "cell_type": "code",
      "source": [
        "x = [l**2 for l in range(1,21) if l % 2 == 0]\n",
        "x"
      ],
      "metadata": {
        "colab": {
          "base_uri": "https://localhost:8080/"
        },
        "id": "1k7KAk49KHda",
        "outputId": "469242b3-679b-4f4a-9ff1-741ec16c801c"
      },
      "execution_count": 6,
      "outputs": [
        {
          "output_type": "execute_result",
          "data": {
            "text/plain": [
              "[4, 16, 36, 64, 100, 144, 196, 256, 324, 400]"
            ]
          },
          "metadata": {},
          "execution_count": 6
        }
      ]
    },
    {
      "cell_type": "markdown",
      "source": [
        "Playing with dictionaries\n"
      ],
      "metadata": {
        "id": "_ZzG_CeFPfyU"
      }
    },
    {
      "cell_type": "code",
      "source": [
        "capitals = {\"Thailand\": \"Bangkok\", \"Indonesia\": \"Jakarta\", \"India\": \"Delhi\", \"Pakistan\": \"Islamabad\",\"China\": \"Beijing\",\"Japan\": \"Tokyo\",\"Korea\": \"Seoul\",\"Malaysia\": \"Kuala Lampur\"}\n",
        "\n",
        "#country = input(\"Enter a country name\")\n",
        "\n",
        "if country in capitals:\n",
        "   print(f\"The capital of {country} is {capitals[country]}\")\n",
        "else:\n",
        "   print(\"The country is not in Asia\")\n",
        "\n",
        "def fibdic(n):\n",
        "  d = {}\n",
        "  x = 0\n",
        "  y = 1\n",
        "  for i in range(n):\n",
        "    d[i] = x\n",
        "    x,y = y, x+y\n",
        "  print(d)\n",
        "\n",
        "#fibdic(10)\n",
        "\n",
        "cards = [\"A\",\"K\",\"Q\",\"J\",\"10\",\"9\",\"8\",\"7\",\"6\",\"5\",\"4\",\"3\",\"2\"]\n",
        "Suits = [\"Hearts\", \"Clubs\", \"Spades\", \"Diamonds\"]\n",
        "\n",
        "Set = {}\n",
        "for i in Suits:\n",
        "  Set[i] = cards\n",
        "print(Set)"
      ],
      "metadata": {
        "colab": {
          "base_uri": "https://localhost:8080/"
        },
        "id": "0lGru_XDLD3S",
        "outputId": "9fa17a89-585b-4989-f63c-2a41bedab94c"
      },
      "execution_count": 20,
      "outputs": [
        {
          "output_type": "stream",
          "name": "stdout",
          "text": [
            "The country is not in Asia\n",
            "{'Hearts': ['A', 'K', 'Q', 'J', '10', '9', '8', '7', '6', '5', '4', '3', '2'], 'Clubs': ['A', 'K', 'Q', 'J', '10', '9', '8', '7', '6', '5', '4', '3', '2'], 'Spades': ['A', 'K', 'Q', 'J', '10', '9', '8', '7', '6', '5', '4', '3', '2'], 'Diamonds': ['A', 'K', 'Q', 'J', '10', '9', '8', '7', '6', '5', '4', '3', '2']}\n"
          ]
        }
      ]
    },
    {
      "cell_type": "markdown",
      "source": [
        "Playing with Recursion"
      ],
      "metadata": {
        "id": "VZ41qalJwzEM"
      }
    },
    {
      "cell_type": "code",
      "source": [
        "a = 1\n",
        "b = [1,2,3]\n",
        "c = {a:1}\n",
        "help(a)\n",
        "#help(b)\n",
        "#help(c)"
      ],
      "metadata": {
        "colab": {
          "base_uri": "https://localhost:8080/"
        },
        "id": "axw38p1Bwyjh",
        "outputId": "55b2564a-0d32-46f4-d1d3-031d416ac339"
      },
      "execution_count": 25,
      "outputs": [
        {
          "output_type": "stream",
          "name": "stdout",
          "text": [
            "Help on int object:\n",
            "\n",
            "class int(object)\n",
            " |  int([x]) -> integer\n",
            " |  int(x, base=10) -> integer\n",
            " |  \n",
            " |  Convert a number or string to an integer, or return 0 if no arguments\n",
            " |  are given.  If x is a number, return x.__int__().  For floating point\n",
            " |  numbers, this truncates towards zero.\n",
            " |  \n",
            " |  If x is not a number or if base is given, then x must be a string,\n",
            " |  bytes, or bytearray instance representing an integer literal in the\n",
            " |  given base.  The literal can be preceded by '+' or '-' and be surrounded\n",
            " |  by whitespace.  The base defaults to 10.  Valid bases are 0 and 2-36.\n",
            " |  Base 0 means to interpret the base from the string as an integer literal.\n",
            " |  >>> int('0b100', base=0)\n",
            " |  4\n",
            " |  \n",
            " |  Built-in subclasses:\n",
            " |      bool\n",
            " |  \n",
            " |  Methods defined here:\n",
            " |  \n",
            " |  __abs__(self, /)\n",
            " |      abs(self)\n",
            " |  \n",
            " |  __add__(self, value, /)\n",
            " |      Return self+value.\n",
            " |  \n",
            " |  __and__(self, value, /)\n",
            " |      Return self&value.\n",
            " |  \n",
            " |  __bool__(self, /)\n",
            " |      True if self else False\n",
            " |  \n",
            " |  __ceil__(...)\n",
            " |      Ceiling of an Integral returns itself.\n",
            " |  \n",
            " |  __divmod__(self, value, /)\n",
            " |      Return divmod(self, value).\n",
            " |  \n",
            " |  __eq__(self, value, /)\n",
            " |      Return self==value.\n",
            " |  \n",
            " |  __float__(self, /)\n",
            " |      float(self)\n",
            " |  \n",
            " |  __floor__(...)\n",
            " |      Flooring an Integral returns itself.\n",
            " |  \n",
            " |  __floordiv__(self, value, /)\n",
            " |      Return self//value.\n",
            " |  \n",
            " |  __format__(self, format_spec, /)\n",
            " |      Default object formatter.\n",
            " |  \n",
            " |  __ge__(self, value, /)\n",
            " |      Return self>=value.\n",
            " |  \n",
            " |  __getattribute__(self, name, /)\n",
            " |      Return getattr(self, name).\n",
            " |  \n",
            " |  __getnewargs__(self, /)\n",
            " |  \n",
            " |  __gt__(self, value, /)\n",
            " |      Return self>value.\n",
            " |  \n",
            " |  __hash__(self, /)\n",
            " |      Return hash(self).\n",
            " |  \n",
            " |  __index__(self, /)\n",
            " |      Return self converted to an integer, if self is suitable for use as an index into a list.\n",
            " |  \n",
            " |  __int__(self, /)\n",
            " |      int(self)\n",
            " |  \n",
            " |  __invert__(self, /)\n",
            " |      ~self\n",
            " |  \n",
            " |  __le__(self, value, /)\n",
            " |      Return self<=value.\n",
            " |  \n",
            " |  __lshift__(self, value, /)\n",
            " |      Return self<<value.\n",
            " |  \n",
            " |  __lt__(self, value, /)\n",
            " |      Return self<value.\n",
            " |  \n",
            " |  __mod__(self, value, /)\n",
            " |      Return self%value.\n",
            " |  \n",
            " |  __mul__(self, value, /)\n",
            " |      Return self*value.\n",
            " |  \n",
            " |  __ne__(self, value, /)\n",
            " |      Return self!=value.\n",
            " |  \n",
            " |  __neg__(self, /)\n",
            " |      -self\n",
            " |  \n",
            " |  __or__(self, value, /)\n",
            " |      Return self|value.\n",
            " |  \n",
            " |  __pos__(self, /)\n",
            " |      +self\n",
            " |  \n",
            " |  __pow__(self, value, mod=None, /)\n",
            " |      Return pow(self, value, mod).\n",
            " |  \n",
            " |  __radd__(self, value, /)\n",
            " |      Return value+self.\n",
            " |  \n",
            " |  __rand__(self, value, /)\n",
            " |      Return value&self.\n",
            " |  \n",
            " |  __rdivmod__(self, value, /)\n",
            " |      Return divmod(value, self).\n",
            " |  \n",
            " |  __repr__(self, /)\n",
            " |      Return repr(self).\n",
            " |  \n",
            " |  __rfloordiv__(self, value, /)\n",
            " |      Return value//self.\n",
            " |  \n",
            " |  __rlshift__(self, value, /)\n",
            " |      Return value<<self.\n",
            " |  \n",
            " |  __rmod__(self, value, /)\n",
            " |      Return value%self.\n",
            " |  \n",
            " |  __rmul__(self, value, /)\n",
            " |      Return value*self.\n",
            " |  \n",
            " |  __ror__(self, value, /)\n",
            " |      Return value|self.\n",
            " |  \n",
            " |  __round__(...)\n",
            " |      Rounding an Integral returns itself.\n",
            " |      \n",
            " |      Rounding with an ndigits argument also returns an integer.\n",
            " |  \n",
            " |  __rpow__(self, value, mod=None, /)\n",
            " |      Return pow(value, self, mod).\n",
            " |  \n",
            " |  __rrshift__(self, value, /)\n",
            " |      Return value>>self.\n",
            " |  \n",
            " |  __rshift__(self, value, /)\n",
            " |      Return self>>value.\n",
            " |  \n",
            " |  __rsub__(self, value, /)\n",
            " |      Return value-self.\n",
            " |  \n",
            " |  __rtruediv__(self, value, /)\n",
            " |      Return value/self.\n",
            " |  \n",
            " |  __rxor__(self, value, /)\n",
            " |      Return value^self.\n",
            " |  \n",
            " |  __sizeof__(self, /)\n",
            " |      Returns size in memory, in bytes.\n",
            " |  \n",
            " |  __sub__(self, value, /)\n",
            " |      Return self-value.\n",
            " |  \n",
            " |  __truediv__(self, value, /)\n",
            " |      Return self/value.\n",
            " |  \n",
            " |  __trunc__(...)\n",
            " |      Truncating an Integral returns itself.\n",
            " |  \n",
            " |  __xor__(self, value, /)\n",
            " |      Return self^value.\n",
            " |  \n",
            " |  as_integer_ratio(self, /)\n",
            " |      Return integer ratio.\n",
            " |      \n",
            " |      Return a pair of integers, whose ratio is exactly equal to the original int\n",
            " |      and with a positive denominator.\n",
            " |      \n",
            " |      >>> (10).as_integer_ratio()\n",
            " |      (10, 1)\n",
            " |      >>> (-10).as_integer_ratio()\n",
            " |      (-10, 1)\n",
            " |      >>> (0).as_integer_ratio()\n",
            " |      (0, 1)\n",
            " |  \n",
            " |  bit_count(self, /)\n",
            " |      Number of ones in the binary representation of the absolute value of self.\n",
            " |      \n",
            " |      Also known as the population count.\n",
            " |      \n",
            " |      >>> bin(13)\n",
            " |      '0b1101'\n",
            " |      >>> (13).bit_count()\n",
            " |      3\n",
            " |  \n",
            " |  bit_length(self, /)\n",
            " |      Number of bits necessary to represent self in binary.\n",
            " |      \n",
            " |      >>> bin(37)\n",
            " |      '0b100101'\n",
            " |      >>> (37).bit_length()\n",
            " |      6\n",
            " |  \n",
            " |  conjugate(...)\n",
            " |      Returns self, the complex conjugate of any int.\n",
            " |  \n",
            " |  to_bytes(self, /, length, byteorder, *, signed=False)\n",
            " |      Return an array of bytes representing an integer.\n",
            " |      \n",
            " |      length\n",
            " |        Length of bytes object to use.  An OverflowError is raised if the\n",
            " |        integer is not representable with the given number of bytes.\n",
            " |      byteorder\n",
            " |        The byte order used to represent the integer.  If byteorder is 'big',\n",
            " |        the most significant byte is at the beginning of the byte array.  If\n",
            " |        byteorder is 'little', the most significant byte is at the end of the\n",
            " |        byte array.  To request the native byte order of the host system, use\n",
            " |        `sys.byteorder' as the byte order value.\n",
            " |      signed\n",
            " |        Determines whether two's complement is used to represent the integer.\n",
            " |        If signed is False and a negative integer is given, an OverflowError\n",
            " |        is raised.\n",
            " |  \n",
            " |  ----------------------------------------------------------------------\n",
            " |  Class methods defined here:\n",
            " |  \n",
            " |  from_bytes(bytes, byteorder, *, signed=False) from builtins.type\n",
            " |      Return the integer represented by the given array of bytes.\n",
            " |      \n",
            " |      bytes\n",
            " |        Holds the array of bytes to convert.  The argument must either\n",
            " |        support the buffer protocol or be an iterable object producing bytes.\n",
            " |        Bytes and bytearray are examples of built-in objects that support the\n",
            " |        buffer protocol.\n",
            " |      byteorder\n",
            " |        The byte order used to represent the integer.  If byteorder is 'big',\n",
            " |        the most significant byte is at the beginning of the byte array.  If\n",
            " |        byteorder is 'little', the most significant byte is at the end of the\n",
            " |        byte array.  To request the native byte order of the host system, use\n",
            " |        `sys.byteorder' as the byte order value.\n",
            " |      signed\n",
            " |        Indicates whether two's complement is used to represent the integer.\n",
            " |  \n",
            " |  ----------------------------------------------------------------------\n",
            " |  Static methods defined here:\n",
            " |  \n",
            " |  __new__(*args, **kwargs) from builtins.type\n",
            " |      Create and return a new object.  See help(type) for accurate signature.\n",
            " |  \n",
            " |  ----------------------------------------------------------------------\n",
            " |  Data descriptors defined here:\n",
            " |  \n",
            " |  denominator\n",
            " |      the denominator of a rational number in lowest terms\n",
            " |  \n",
            " |  imag\n",
            " |      the imaginary part of a complex number\n",
            " |  \n",
            " |  numerator\n",
            " |      the numerator of a rational number in lowest terms\n",
            " |  \n",
            " |  real\n",
            " |      the real part of a complex number\n",
            "\n"
          ]
        }
      ]
    },
    {
      "cell_type": "code",
      "source": [
        "\n",
        "# Python Program for\n",
        "# Creation of String\n",
        "\n",
        "# Creating a String\n",
        "# with single Quotes\n",
        "String1 = 'Welcome to the Geeks World'\n",
        "print(\"String with the use of Single Quotes: \")\n",
        "print(String1)\n",
        "\n",
        "# Creating a String\n",
        "# with double Quotes\n",
        "String1 = \"I'm a Geek\"\n",
        "print(\"String with the use of Double Quotes: \")\n",
        "print(String1)\n",
        "\n",
        "# Creating a String\n",
        "# with triple Quotes\n",
        "String1 = '''I'm a Geek and I live in a world of \"Geeks\"'''\n",
        "print(\"String with the use of Triple Quotes: \")\n",
        "print(String1)\n",
        "\n",
        "# Creating String with triple\n",
        "# Quotes allows multiple lines\n",
        "String1 = '''\n",
        "            Geeks\n",
        "            For\n",
        "            Life\n",
        "          '''\n",
        "print(\"Creating a multiline String: \")\n",
        "print(String1)"
      ],
      "metadata": {
        "colab": {
          "base_uri": "https://localhost:8080/"
        },
        "id": "bFxkQKUvlaIG",
        "outputId": "15fbef59-be79-49ac-db1a-7321373afc82"
      },
      "execution_count": 5,
      "outputs": [
        {
          "output_type": "stream",
          "name": "stdout",
          "text": [
            "String with the use of Single Quotes: \n",
            "Welcome to the Geeks World\n",
            "String with the use of Double Quotes: \n",
            "I'm a Geek\n",
            "String with the use of Triple Quotes: \n",
            "I'm a Geek and I live in a world of \"Geeks\"\n",
            "Creating a multiline String: \n",
            "\n",
            "            Geeks \n",
            "            For \n",
            "            Life\n",
            "          \n"
          ]
        }
      ]
    },
    {
      "cell_type": "code",
      "source": [
        "def ptrain(n):\n",
        "  a = [[1 for j in range(n)]\n",
        "        for i in range(n)]\n",
        "  for d in range(n):\n",
        "    for c in range(n-d-1):\n",
        "      print(\" \", end = \"\")\n",
        "    for b in range(d+1):\n",
        "      if b == 0 or b == d:\n",
        "        a[d][b] == 1\n",
        "        print(a[d][b], end = \" \")\n",
        "      else :\n",
        "        a[d][b] = a[d-1][b-1] + a[d-1][b]\n",
        "        print(a[d][b], end = \" \")\n",
        "    print()\n",
        "\n",
        "def rev_ptrain(n):\n",
        "  a = [[1]*(i+1) for i in range(n)]\n",
        "  for x in range(1,n):\n",
        "    for y in range(1,x):\n",
        "        a[x][y] = a[x-1][y] + a[x-1][y-1]\n",
        "  return a\n",
        "\n",
        "  for d in range(n-1,-1,-1):\n",
        "    print(\" \"*(n-d), end = \" \")\n",
        "    for c in range(d+1):\n",
        "      print(a[d][c], end = \" \")\n",
        "    print()\n",
        "\n",
        "def nrml_ptrain(n):\n",
        "  a = [[1]*(i+1) for i in range(n)]\n",
        "  for x in range(1,n):\n",
        "    for y in range(1,x):\n",
        "        a[x][y] = a[x-1][y] + a[x-1][y-1]\n",
        "\n",
        "  for s in range(n):\n",
        "    print(\" \"*(n-s-1), end = \" \")\n",
        "    for t in range(s+1):\n",
        "      print(a[s][t], end = \" \")\n",
        "    print()\n",
        "\n",
        "#ptrain(7)\n",
        "#rev_ptrain(5)\n",
        "nrml_ptrain(5)"
      ],
      "metadata": {
        "colab": {
          "base_uri": "https://localhost:8080/"
        },
        "id": "2r0vmnYmm4LH",
        "outputId": "e17a2567-4d81-46c8-97ef-d8593ce0e734"
      },
      "execution_count": 53,
      "outputs": [
        {
          "output_type": "stream",
          "name": "stdout",
          "text": [
            "     1 \n",
            "    1 1 \n",
            "   1 2 1 \n",
            "  1 3 3 1 \n",
            " 1 4 6 4 1 \n"
          ]
        }
      ]
    }
  ]
}