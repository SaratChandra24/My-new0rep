{
  "nbformat": 4,
  "nbformat_minor": 0,
  "metadata": {
    "colab": {
      "provenance": [],
      "authorship_tag": "ABX9TyOlZdolkdwLjGJnOg6dAa6Q",
      "include_colab_link": true
    },
    "kernelspec": {
      "name": "python3",
      "display_name": "Python 3"
    },
    "language_info": {
      "name": "python"
    }
  },
  "cells": [
    {
      "cell_type": "markdown",
      "metadata": {
        "id": "view-in-github",
        "colab_type": "text"
      },
      "source": [
        "<a href=\"https://colab.research.google.com/github/SaratChandra24/My-new0rep/blob/main/Prime_number.ipynb\" target=\"_parent\"><img src=\"https://colab.research.google.com/assets/colab-badge.svg\" alt=\"Open In Colab\"/></a>"
      ]
    },
    {
      "cell_type": "code",
      "execution_count": 11,
      "metadata": {
        "id": "DaB8ly7D8Yle"
      },
      "outputs": [],
      "source": [
        "def Isitprime(listnum):\n",
        "    primenumbers = []\n",
        "    for n in listnum:\n",
        "      if n>1:\n",
        "        for i in range(2, n):\n",
        "            if n % i == 0:\n",
        "                print (n, \"is not a prime number\")\n",
        "                break\n",
        "        else:\n",
        "          print (n, \"is a prime number\")\n",
        "          primenumbers.append(n)\n",
        "    return primenumbers"
      ]
    },
    {
      "cell_type": "code",
      "source": [
        "Isitprime([1,2,3,4,5,6,7,8,9])"
      ],
      "metadata": {
        "colab": {
          "base_uri": "https://localhost:8080/"
        },
        "id": "LVI8aGeY86tr",
        "outputId": "69e329f0-841c-4c05-d175-1074540f8225"
      },
      "execution_count": 12,
      "outputs": [
        {
          "output_type": "stream",
          "name": "stdout",
          "text": [
            "2 is a prime number\n",
            "3 is a prime number\n",
            "4 is not a prime number\n",
            "5 is a prime number\n",
            "6 is not a prime number\n",
            "7 is a prime number\n",
            "8 is not a prime number\n",
            "9 is not a prime number\n"
          ]
        },
        {
          "output_type": "execute_result",
          "data": {
            "text/plain": [
              "[2, 3, 5, 7]"
            ]
          },
          "metadata": {},
          "execution_count": 12
        }
      ]
    },
    {
      "cell_type": "code",
      "source": [],
      "metadata": {
        "id": "8u3XWV0i9U6H"
      },
      "execution_count": null,
      "outputs": []
    }
  ]
}